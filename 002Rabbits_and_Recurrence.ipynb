{
  "nbformat": 4,
  "nbformat_minor": 0,
  "metadata": {
    "colab": {
      "name": "Rabbits and Recurrence.ipynb",
      "provenance": [],
      "authorship_tag": "ABX9TyMpmwg6h8zDgWeRBvKS8ZUc",
      "include_colab_link": true
    },
    "kernelspec": {
      "name": "python3",
      "display_name": "Python 3"
    },
    "language_info": {
      "name": "python"
    }
  },
  "cells": [
    {
      "cell_type": "markdown",
      "metadata": {
        "id": "view-in-github",
        "colab_type": "text"
      },
      "source": [
        "<a href=\"https://colab.research.google.com/github/phoenixev/Rosalind/blob/main/002Rabbits_and_Recurrence.ipynb\" target=\"_parent\"><img src=\"https://colab.research.google.com/assets/colab-badge.svg\" alt=\"Open In Colab\"/></a>"
      ]
    },
    {
      "cell_type": "code",
      "execution_count": 1,
      "metadata": {
        "id": "s7Ks651UrTBe"
      },
      "outputs": [],
      "source": [
        "def Fibonacci(months, offspring):\n",
        "\n",
        "  parent, child = 1, 1\n",
        "\n",
        "  for itr in range(months - 1):\n",
        "\n",
        "    child, parent = parent, parent + (child * offspring)\n",
        "\n",
        "  return child"
      ]
    },
    {
      "cell_type": "code",
      "source": [
        "Fibonacci(33, 5)"
      ],
      "metadata": {
        "colab": {
          "base_uri": "https://localhost:8080/"
        },
        "id": "Kx3bKtfbt6By",
        "outputId": "5700fe06-874d-45e8-d13d-972b3a907bda"
      },
      "execution_count": 3,
      "outputs": [
        {
          "output_type": "execute_result",
          "data": {
            "text/plain": [
              "112316396483406"
            ]
          },
          "metadata": {},
          "execution_count": 3
        }
      ]
    }
  ]
}