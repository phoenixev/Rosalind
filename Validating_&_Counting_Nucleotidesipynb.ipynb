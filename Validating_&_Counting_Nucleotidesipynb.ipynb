{
  "nbformat": 4,
  "nbformat_minor": 0,
  "metadata": {
    "colab": {
      "name": "Validating & Counting Nucleotidesipynb",
      "provenance": [],
      "authorship_tag": "ABX9TyMuFV8MxNOD9w4w//NTswRX",
      "include_colab_link": true
    },
    "kernelspec": {
      "name": "python3",
      "display_name": "Python 3"
    },
    "language_info": {
      "name": "python"
    }
  },
  "cells": [
    {
      "cell_type": "markdown",
      "metadata": {
        "id": "view-in-github",
        "colab_type": "text"
      },
      "source": [
        "<a href=\"https://colab.research.google.com/github/phoenixev/Rosalind/blob/main/Validating_%26_Counting_Nucleotidesipynb.ipynb\" target=\"_parent\"><img src=\"https://colab.research.google.com/assets/colab-badge.svg\" alt=\"Open In Colab\"/></a>"
      ]
    },
    {
      "cell_type": "code",
      "execution_count": 2,
      "metadata": {
        "id": "W0nq6UieUO41"
      },
      "outputs": [],
      "source": [
        "nucleotides = [\"A\", \"C\", \"G\", \"T\"]\n",
        "\n",
        "#Check the sequence to make sure it is a valid DNA string\n",
        "def validateSeq(dna_seq):\n",
        "\n",
        "  #creates a temporary string that is uppercased\n",
        "  tempseq = dna_seq.upper()\n",
        "\n",
        "  #loop through that string\n",
        "  for nuc in tempseq:\n",
        "\n",
        "    if nuc not in nucleotides:\n",
        "      return False\n",
        "  return tempseq"
      ]
    },
    {
      "cell_type": "code",
      "source": [
        "#testing a true statement\n",
        "randDNA = \"ATTTCGT\"\n",
        "\n",
        "validateSeq(randDNA)"
      ],
      "metadata": {
        "colab": {
          "base_uri": "https://localhost:8080/",
          "height": 35
        },
        "id": "DrV29_c0fkSI",
        "outputId": "b1a8ceb5-733c-451c-e8c4-72a21b25ef98"
      },
      "execution_count": 3,
      "outputs": [
        {
          "output_type": "execute_result",
          "data": {
            "text/plain": [
              "'ATTTCGT'"
            ],
            "application/vnd.google.colaboratory.intrinsic+json": {
              "type": "string"
            }
          },
          "metadata": {},
          "execution_count": 3
        }
      ]
    },
    {
      "cell_type": "code",
      "source": [
        "#testing a false statement\n",
        "randDNA = \"ATTCGTX\"\n",
        "validateSeq(randDNA)"
      ],
      "metadata": {
        "colab": {
          "base_uri": "https://localhost:8080/"
        },
        "id": "Ad1KvWMSgBa7",
        "outputId": "245c1403-03cf-472d-f7ac-811a7b838cd0"
      },
      "execution_count": 4,
      "outputs": [
        {
          "output_type": "execute_result",
          "data": {
            "text/plain": [
              "False"
            ]
          },
          "metadata": {},
          "execution_count": 4
        }
      ]
    },
    {
      "cell_type": "code",
      "source": [
        "#testing to make sure the string is all upper\n",
        "randDNA = \"AtCCgGGtGGt\"\n",
        "validateSeq(randDNA)"
      ],
      "metadata": {
        "colab": {
          "base_uri": "https://localhost:8080/",
          "height": 35
        },
        "id": "aCXBy5k9gI5T",
        "outputId": "c6e0e94c-6998-4e2b-b3dc-2a98be408990"
      },
      "execution_count": 5,
      "outputs": [
        {
          "output_type": "execute_result",
          "data": {
            "text/plain": [
              "'ATCCGGGTGGT'"
            ],
            "application/vnd.google.colaboratory.intrinsic+json": {
              "type": "string"
            }
          },
          "metadata": {},
          "execution_count": 5
        }
      ]
    },
    {
      "cell_type": "markdown",
      "source": [
        "First function running and tests passed. "
      ],
      "metadata": {
        "id": "MS6vxbe-gUkU"
      }
    },
    {
      "cell_type": "code",
      "source": [
        "import random"
      ],
      "metadata": {
        "id": "EGN0WdLlgYHj"
      },
      "execution_count": 6,
      "outputs": []
    },
    {
      "cell_type": "code",
      "source": [
        "#randomly generating a DNA string by looping 20 times through out nucleotide list\n",
        "#can change the length of the DNA by changing the range\n",
        "randDNAstr = ''.join([random.choice(nucleotides) for nuc in range(20)])\n",
        "randDNAstr"
      ],
      "metadata": {
        "colab": {
          "base_uri": "https://localhost:8080/",
          "height": 35
        },
        "id": "bjpuZQ2wgcJ4",
        "outputId": "9781b287-df63-4ec8-9e22-80bdf2ae7a74"
      },
      "execution_count": 14,
      "outputs": [
        {
          "output_type": "execute_result",
          "data": {
            "text/plain": [
              "'CGAAGCCCGGGTGCTATATA'"
            ],
            "application/vnd.google.colaboratory.intrinsic+json": {
              "type": "string"
            }
          },
          "metadata": {},
          "execution_count": 14
        }
      ]
    },
    {
      "cell_type": "code",
      "source": [
        "def countNucFrequency(seq):\n",
        "  #defining a temporary dictionary\n",
        "  tempFreqDict = {\"A\": 0, \"C\": 0, \"G\": 0, \"T\": 0}\n",
        "  \n",
        "  #loop through string we pass, and if A, use nt A and increase that value\n",
        "  for nuc in seq:\n",
        "    tempFreqDict[nuc] += 1\n",
        "  return tempFreqDict"
      ],
      "metadata": {
        "id": "GCYAC1Yyg7s_"
      },
      "execution_count": 16,
      "outputs": []
    },
    {
      "cell_type": "code",
      "source": [
        "import collections"
      ],
      "metadata": {
        "id": "UnOW918ziOAM"
      },
      "execution_count": 25,
      "outputs": []
    },
    {
      "cell_type": "code",
      "source": [
        "#an optimized function of our previous function using collections\n",
        "##def countNucFrequency(seq):\n",
        "\n",
        "##  return dict(collections.Counter(seq))"
      ],
      "metadata": {
        "id": "t9mal3OwiVFU"
      },
      "execution_count": 28,
      "outputs": []
    },
    {
      "cell_type": "code",
      "source": [
        "print(validateSeq(randDNAstr))\n",
        "print(countNucFrequency(randDNAstr))"
      ],
      "metadata": {
        "colab": {
          "base_uri": "https://localhost:8080/"
        },
        "id": "a3tLyUanhhBS",
        "outputId": "0fcca5a8-d7ba-4ee3-c7e3-a20109cc0737"
      },
      "execution_count": 27,
      "outputs": [
        {
          "output_type": "stream",
          "name": "stdout",
          "text": [
            "CGAAGCCCGGGTGCTATATA\n",
            "{'C': 5, 'G': 6, 'A': 5, 'T': 4}\n"
          ]
        }
      ]
    }
  ]
}