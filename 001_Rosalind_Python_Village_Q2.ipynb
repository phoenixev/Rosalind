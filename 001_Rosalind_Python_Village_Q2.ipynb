{
  "nbformat": 4,
  "nbformat_minor": 0,
  "metadata": {
    "colab": {
      "name": "Rosalind Python Village Q2.ipynb",
      "provenance": [],
      "authorship_tag": "ABX9TyMyCLnJkgw3xb6ekVegULXS",
      "include_colab_link": true
    },
    "kernelspec": {
      "name": "python3",
      "display_name": "Python 3"
    },
    "language_info": {
      "name": "python"
    }
  },
  "cells": [
    {
      "cell_type": "markdown",
      "metadata": {
        "id": "view-in-github",
        "colab_type": "text"
      },
      "source": [
        "<a href=\"https://colab.research.google.com/github/phoenixev/Rosalind/blob/main/001_Rosalind_Python_Village_Q2.ipynb\" target=\"_parent\"><img src=\"https://colab.research.google.com/assets/colab-badge.svg\" alt=\"Open In Colab\"/></a>"
      ]
    },
    {
      "cell_type": "code",
      "execution_count": 3,
      "metadata": {
        "id": "ZRNwEU7jqR6z"
      },
      "outputs": [],
      "source": [
        "import math\n",
        "\n",
        "def python_village_2(a, b):\n",
        "\n",
        "  c = a**2 + b**2\n",
        "\n",
        "  print(c)"
      ]
    },
    {
      "cell_type": "code",
      "source": [
        "python_village_2(845,802)"
      ],
      "metadata": {
        "colab": {
          "base_uri": "https://localhost:8080/"
        },
        "id": "qkK-Ryfkqwhd",
        "outputId": "9dc2a987-294d-4252-91dc-52aebdc50efb"
      },
      "execution_count": 5,
      "outputs": [
        {
          "output_type": "stream",
          "name": "stdout",
          "text": [
            "1357229\n"
          ]
        }
      ]
    }
  ]
}